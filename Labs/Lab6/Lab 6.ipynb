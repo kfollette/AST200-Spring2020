{
 "cells": [
  {
   "cell_type": "markdown",
   "metadata": {},
   "source": [
    "### *** Names: [Insert Your Names Here]***"
   ]
  },
  {
   "cell_type": "markdown",
   "metadata": {},
   "source": [
    "# Lab 6 - Testing Differences Between Data Subsets"
   ]
  },
  {
   "cell_type": "code",
   "execution_count": null,
   "metadata": {},
   "outputs": [],
   "source": [
    "import scipy.stats as st\n",
    "import numpy as np\n",
    "import matplotlib.pyplot as plt\n",
    "%matplotlib inline\n",
    "import seaborn as sb\n",
    "import pandas as pd"
   ]
  },
  {
   "cell_type": "code",
   "execution_count": null,
   "metadata": {},
   "outputs": [],
   "source": [
    "# these set the pandas defaults so that it will print ALL values, even for very long lists and large dataframes\n",
    "pd.set_option('display.max_columns', None)\n",
    "pd.set_option('display.max_rows', None)"
   ]
  },
  {
   "cell_type": "code",
   "execution_count": null,
   "metadata": {},
   "outputs": [],
   "source": [
    "#read in the data, skipping the first 76 rows of ancillary information\n",
    "data=pd.read_csv('planets_030220.csv', skiprows=76)\n",
    "print(data.shape)"
   ]
  },
  {
   "cell_type": "code",
   "execution_count": null,
   "metadata": {},
   "outputs": [],
   "source": [
    "#this truncates to only planet detection methods with >30 successful detections (skip if you want all of them)\n",
    "methods,methods_inds,methods_counts = np.unique(data['pl_discmethod'],return_index=True,return_counts=True)\n",
    "methods = methods[methods_counts> 30]\n",
    "print(\"I am keeping only the following discovery methods: \", methods)\n",
    "\n",
    "#find the indices of all entries where pl_discmethod is one of these four\n",
    "inds = [j for j in range(len(data)) if data['pl_discmethod'][j] in methods and data['pl_bmassj'][j] < 13.]\n",
    "\n",
    "#write a new dataframe with just these entries\n",
    "data2 = data.loc[inds]\n",
    "\n",
    "#note the table is much smaller than it once was\n",
    "print(\"My shape is now: \", data2.shape)"
   ]
  },
  {
   "cell_type": "markdown",
   "metadata": {},
   "source": [
    "<div class=hw>\n",
    "    \n",
    "### Exercise 1\n",
    "---------------\n",
    "\n",
    "(a) Sit down with your lab partner and compare your answers to exercise 2 on the prelab. Discuss any differences in your approaches, and pros and cons of each. Decide on a single \"filter\" function, add a docstring and comments, and paste it in the cell below. \n",
    "\n",
    "(b) Use your filter function to create a dataframe consisting only of planets detected with the Radial Velocity method, one with only the Transit method, one with only the Microlensing Method and one with only the Direct Imaging method. \n",
    "\n",
    "(c) Create two different types of graphics to compare the distributions of a single planetary property (e.g. mass) across these 4 subsets of the database. Your first graphic should be a box plot. Your second should be one or more overlapping histograms.  \n",
    "\n",
    "*Hint 1 - As you probably noted in the prelab, the default pandas plotting functions do not make particularly nice graphics. I suggest using either matplotlib or seaborn.*  \n",
    "*Hint 2 - For overlapping histograms, you will want to set the fill to be transparent, which is called the \"alpha\" value and is specified with the keyword alpha for many plotting functions*"
   ]
  },
  {
   "cell_type": "code",
   "execution_count": null,
   "metadata": {},
   "outputs": [],
   "source": [
    "# your commented filter function goes here"
   ]
  },
  {
   "cell_type": "code",
   "execution_count": null,
   "metadata": {},
   "outputs": [],
   "source": [
    "# define your four different filtered dataframes using your filter function here"
   ]
  },
  {
   "cell_type": "code",
   "execution_count": null,
   "metadata": {},
   "outputs": [],
   "source": [
    "# boxplot here"
   ]
  },
  {
   "cell_type": "code",
   "execution_count": null,
   "metadata": {},
   "outputs": [],
   "source": [
    "# overlapping histograms here"
   ]
  },
  {
   "cell_type": "markdown",
   "metadata": {},
   "source": [
    "## Testing Differences Between Datasets \n",
    "\n",
    "### Computing Confidence Intervals\n",
    "\n",
    "Now that we have a mechanism for filtering the dataset, we can test differences between groups with confidence intervals. The syntax for computing the confidence interval on a mean for a given variable is as follows. \n",
    "\n",
    "variable1 = st.t.interval(conf_level,n,loc=np.nanmean(variable2), scale=st.sem(variable2))\n",
    "\n",
    "where conf_level is the confidence level you with to calculate (e.g. 0.95 is 95% confidence, 0.98 is 98%, etc.)\n",
    "n is the number of samples and should generally be set to the number of valid entries in variable2 -1. \n",
    "\n",
    "An example can be found below (if your filter function is working as specified)."
   ]
  },
  {
   "cell_type": "code",
   "execution_count": null,
   "metadata": {},
   "outputs": [],
   "source": [
    "## apply filter to select only men from data, and pull the scores from this group into a variable\n",
    "df2=yourfilterfunc(data2,'pl_discmethod','Transit')\n",
    "transit_radii=df2['pl_radj']\n",
    "#print mean\n",
    "print(np.nanmean(transit_radii))"
   ]
  },
  {
   "cell_type": "code",
   "execution_count": null,
   "metadata": {},
   "outputs": [],
   "source": [
    "#compute 95% confidence intervals on the mean (low and high)\n",
    "transitradii_conf=st.t.interval(0.95, len(transit_radii)-1, loc=np.nanmean(transit_radii), \n",
    "                                scale=st.sem(transit_radii, nan_policy='omit'))\n",
    "transitradii_conf"
   ]
  },
  {
   "cell_type": "markdown",
   "metadata": {},
   "source": [
    "<div class=hw>\n",
    "    \n",
    "### Exercise 2\n",
    "---------------\n",
    "\n",
    "Choose a planet property that you find interesting and compare the mean (or median) for that property across the four discovery methods. Then write a paragraph describing the results. Are the differences between the groups significant according to your data? Would they still be significant if you were to compute the 98% (3-sigma) confidence intervals?"
   ]
  },
  {
   "cell_type": "code",
   "execution_count": null,
   "metadata": {},
   "outputs": [],
   "source": [
    "# calculations for entire population"
   ]
  },
  {
   "cell_type": "code",
   "execution_count": null,
   "metadata": {},
   "outputs": [],
   "source": [
    "# calculations for RV planets"
   ]
  },
  {
   "cell_type": "code",
   "execution_count": null,
   "metadata": {},
   "outputs": [],
   "source": [
    "# calculations for transiting planets"
   ]
  },
  {
   "cell_type": "code",
   "execution_count": null,
   "metadata": {},
   "outputs": [],
   "source": [
    "# calculations for microlensing planets"
   ]
  },
  {
   "cell_type": "code",
   "execution_count": null,
   "metadata": {},
   "outputs": [],
   "source": [
    "# calculations for directly imaged planets"
   ]
  },
  {
   "cell_type": "markdown",
   "metadata": {},
   "source": [
    "***Explanations of which groups deviate at 95/98% confidence from one another here***"
   ]
  },
  {
   "cell_type": "markdown",
   "metadata": {},
   "source": [
    "<div class=hw>\n",
    "    \n",
    "### Exercise 3\n",
    "---------------\n",
    "\n",
    "Now let's do a hypothesis test about the meaningfulness of these differences using a statistic called the Student's t-test. This test is commonly used to test differences between the means of two samples. Read a little about the test [here](https://en.wikipedia.org/wiki/Student%27s_t-test).\n",
    "(a) Choose one of the differences that you noted in Exercise 2 to test and formulate it as a null vs. alternative hypothesis apopropriate for a t test\n",
    "(b) The relevant python function is called ttest_indiv in the scipy stats library (imported as st above). Figure out how to use it and compute the test statistic. \n",
    "(c) Interpret the output of the function in a single sentence. What does it mean?"
   ]
  },
  {
   "cell_type": "markdown",
   "metadata": {},
   "source": [
    "***hypothesis description here***"
   ]
  },
  {
   "cell_type": "code",
   "execution_count": null,
   "metadata": {},
   "outputs": [],
   "source": [
    "#t-test here"
   ]
  },
  {
   "cell_type": "markdown",
   "metadata": {},
   "source": [
    "***test result explanation here***"
   ]
  },
  {
   "cell_type": "markdown",
   "metadata": {},
   "source": [
    "<div class=hw>\n",
    "    \n",
    "### Exercise 4\n",
    "---------------\n",
    "\n",
    "Bring your results from Exercises 1-4 together into a single integrated explanation of what you learned in ~2-3 paragraphs (+ figures). "
   ]
  },
  {
   "cell_type": "markdown",
   "metadata": {},
   "source": [
    "***explanation here***"
   ]
  },
  {
   "cell_type": "code",
   "execution_count": null,
   "metadata": {},
   "outputs": [],
   "source": [
    "from IPython.core.display import HTML\n",
    "def css_styling():\n",
    "    styles = open(\"../../custom.css\", \"r\").read()\n",
    "    return HTML(styles)\n",
    "css_styling()"
   ]
  }
 ],
 "metadata": {
  "anaconda-cloud": {},
  "kernelspec": {
   "display_name": "Python 3",
   "language": "python",
   "name": "python3"
  },
  "language_info": {
   "codemirror_mode": {
    "name": "ipython",
    "version": 3
   },
   "file_extension": ".py",
   "mimetype": "text/x-python",
   "name": "python",
   "nbconvert_exporter": "python",
   "pygments_lexer": "ipython3",
   "version": "3.7.3"
  }
 },
 "nbformat": 4,
 "nbformat_minor": 1
}
