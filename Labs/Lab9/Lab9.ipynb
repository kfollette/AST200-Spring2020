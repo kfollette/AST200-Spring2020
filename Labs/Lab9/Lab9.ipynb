{
 "cells": [
  {
   "cell_type": "markdown",
   "metadata": {},
   "source": [
    "### *Name: (Your name here)*"
   ]
  },
  {
   "cell_type": "markdown",
   "metadata": {},
   "source": [
    "## Lab 9 - Introduction to Bayesian Statistics Lab\n",
    "\n",
    "*Written by ASTR 200 alum William Balmer for their Independent Study on Bayesian Analysis Techniques.*\n",
    "\n",
    "Please watch the accompanying video introduction (posted to Moodle) before attempting this lab"
   ]
  },
  {
   "cell_type": "markdown",
   "metadata": {},
   "source": [
    "### Import Statements"
   ]
  },
  {
   "cell_type": "code",
   "execution_count": null,
   "metadata": {},
   "outputs": [],
   "source": [
    "# begin by importing necessary modules\n",
    "import numpy as np\n",
    "import pandas as pd\n",
    "from sklearn.neighbors import KernelDensity \n",
    "from scipy.stats import gaussian_kde\n",
    "from astropy import units as u\n",
    "\n",
    "# plotting imports\n",
    "import matplotlib.pyplot as plt\n",
    "import seaborn as sb\n",
    "%matplotlib inline\n",
    "\n",
    "# import a real dataset, one containing the properties of exoplanets discovered by the TESS satelite\n",
    "\n",
    "TESS = pd.read_csv('TESS_planets.csv', skiprows=80)\n",
    "KEPL = pd.read_csv('Kepler_planets.csv', skiprows=54)"
   ]
  },
  {
   "cell_type": "markdown",
   "metadata": {},
   "source": [
    "### Background"
   ]
  },
  {
   "cell_type": "markdown",
   "metadata": {},
   "source": [
    "According to wikipedia, \"the Kepler telescope is a retired space telescope launched by NASA to discover Earth-size planets orbiting other stars... After nine years of operation, the telescope's reaction control system fuel was depleted, and NASA announced its retirement on October 30, 2018.\" The telescope helped astronomers and a community of scientists confirm over 2000 planet detections. You can read about the Kepler mission [here](https://www.nasa.gov/mission_pages/kepler/overview/index.html)\n",
    "\n",
    "Kepler's spiritual successor, TESS, is the \"Transiting Exoplanet Survey Satellite... a space telescope... designed to search for exoplanets using the transit method in an area 400 times larger than that covered by the Kepler mission.\" Data from TESS is still being beamed down to Earth, but a large number of exoplanets have already been confirmed using TESS. You can read more about the TESS mission [here](https://www.nasa.gov/content/about-tess)\n",
    "    \n",
    "Both Kepler and TESS discover planets using the transit method: they measure how the light from a star dims as a planet orbiting that star passes in front of it (transits). Bigger planets closer to their host stars will therefore be easier to detect; the survey is biased towards these detections. We might expect, then, that the data we collect from Kepler or TESS might not be representative of the total exoplanet population."
   ]
  },
  {
   "cell_type": "markdown",
   "metadata": {},
   "source": [
    "### Exercise 1"
   ]
  },
  {
   "cell_type": "markdown",
   "metadata": {},
   "source": [
    "<div class=\"hw\">\n",
    "    Read through the Kepler mission overview (linked above) and comment one additional bias that might exist in the Kepler dataset </div>\n",
    "\n",
    "**Answer:**"
   ]
  },
  {
   "cell_type": "markdown",
   "metadata": {},
   "source": [
    "### Exercise 2"
   ]
  },
  {
   "cell_type": "markdown",
   "metadata": {},
   "source": [
    "<div class=\"hw\">\n",
    "    Let's use bayesian statistics to see how our understanding of the properties of the exoplanet population has changed, using Kepler data as an informed prior and TESS data as our new observations. First, pick one of the following four qualities of an exoplanet: radius, orbital semi-major axis (distance between it and the star), orbital period (how long it takes to orbit the star), or temperature. Check the units for each of your choice of parameter in both datasets. Comment which parameter you chose, and what units it has in both datasets.</div>\n",
    "\n",
    "**Answer:**\n"
   ]
  },
  {
   "cell_type": "markdown",
   "metadata": {},
   "source": [
    "### Exercise 3: the prior"
   ]
  },
  {
   "cell_type": "markdown",
   "metadata": {},
   "source": [
    "<div class=\"sidebar\">\n",
    "A prior is a continuous distribution, but we have a set of discrete data points. What we'll need to do next is construct a prior for our chosen parameter using our Kepler data. Luckily, you learned to do this in Prelab 9. Set a variable we'll call \"prior_data\" equal to an array containing our data, and then construct a continuous distribution modeled on your data using a KDE."
   ]
  },
  {
   "cell_type": "code",
   "execution_count": null,
   "metadata": {},
   "outputs": [],
   "source": [
    "# assign your exoplanet property Kepler data to a variable here\n",
    "# you will want to use the pandas function \"to_numpy()\" so that you can\n",
    "# easily feed your variable to your kernel density estimator and do your\n",
    "# further manipulations\n",
    "prior_data = "
   ]
  },
  {
   "cell_type": "code",
   "execution_count": null,
   "metadata": {
    "scrolled": false
   },
   "outputs": [],
   "source": [
    "# create a PDF using a KDE here, and plot it\n",
    "\n",
    "\n",
    "\n"
   ]
  },
  {
   "cell_type": "markdown",
   "metadata": {},
   "source": [
    "### Exercise 4: the likelihood\n",
    "\n",
    "Now we have a PDF (probability density function), for our prior. We know that our posterior will be proportional to our prior multiplied by our data. Now, let's construct a PDF for our data."
   ]
  },
  {
   "cell_type": "markdown",
   "metadata": {},
   "source": [
    "<div class=\"hw\">\n",
    "(a) Like you did for your prior data, assign the variable \"data\" to the TESS data for your given parameter. Make sure you transform the units of this data into the same units as the prior. Then, create a PDF for this data using a KDE, and check that the resulting distribution looks correct."
   ]
  },
  {
   "cell_type": "code",
   "execution_count": null,
   "metadata": {},
   "outputs": [],
   "source": [
    "# assign your exoplanet property TESS data a variable here\n",
    "data = \n"
   ]
  },
  {
   "cell_type": "code",
   "execution_count": null,
   "metadata": {
    "scrolled": false
   },
   "outputs": [],
   "source": [
    "# create a PDF using a KDE here, and plot it\n",
    "data_model = \n",
    "\n",
    "\n"
   ]
  },
  {
   "cell_type": "markdown",
   "metadata": {},
   "source": [
    "<div class=\"hw\">\n",
    "(b) Describe what is qualitatively different about your TESS data and the prior Kepler data. Why might the distribution have changed between the two series of observations? Is this distribution unimodal like the Kepler data? How might your definition of uni vs bi vs multimodal rely on your KDE parameters, like bandwidth?</div>\n",
    "    \n",
    "**Answer:**"
   ]
  },
  {
   "cell_type": "markdown",
   "metadata": {},
   "source": [
    "### Exercise 5: the posterior\n",
    "\n",
    "Now, your task is to construct a posterior distribution that is the product of your prior and your observation."
   ]
  },
  {
   "cell_type": "markdown",
   "metadata": {},
   "source": [
    "<div class=\"hw\">\n",
    "(a) Using the cell below, multiply the likelihood by the prior to produce a posterior. Then, normalize all three pdfs so that they can be plotted on the same axis."
   ]
  },
  {
   "cell_type": "code",
   "execution_count": null,
   "metadata": {},
   "outputs": [],
   "source": [
    "# construct your posterior and normalize your pdfs here\n",
    "\n",
    "\n",
    "\n"
   ]
  },
  {
   "cell_type": "markdown",
   "metadata": {},
   "source": [
    "<div class=\"hw\">\n",
    "(b) Plot your posterior individually and then on the same axis as your prior and likelihood."
   ]
  },
  {
   "cell_type": "code",
   "execution_count": null,
   "metadata": {},
   "outputs": [],
   "source": [
    "# individual plot here\n",
    "\n",
    "\n",
    "\n"
   ]
  },
  {
   "cell_type": "code",
   "execution_count": null,
   "metadata": {},
   "outputs": [],
   "source": [
    "# all three plotted here\n",
    "\n",
    "\n",
    "\n"
   ]
  },
  {
   "cell_type": "markdown",
   "metadata": {},
   "source": [
    "<div class=\"hw\">\n",
    "(c) Describe how TESS observations of your parameter have affected the posterior. Does the posterior more dramatically resemble the prior or the data? Why?\n",
    "\n",
    "**Answer:**"
   ]
  },
  {
   "cell_type": "markdown",
   "metadata": {},
   "source": [
    "### Exercise 6: Hypothesis testing"
   ]
  },
  {
   "cell_type": "markdown",
   "metadata": {},
   "source": [
    "<div class=\"sidebar\">\n",
    "Remember that a hypothesis test in the Bayesian framework is as simple as comparing two likelihoods via a Bayes Factor. See (this table)[https://en.wikipedia.org/wiki/Bayes_factor#Interpretation] if you need a reminder how to interpret a Bayes factor"
   ]
  },
  {
   "cell_type": "markdown",
   "metadata": {},
   "source": [
    "<div class=\"hw\">\n",
    "(a) Formulate a hypothesis to test on your posterior distribution. Write down this hypothesis here.\n",
    "    \n",
    "**Answer:**"
   ]
  },
  {
   "cell_type": "markdown",
   "metadata": {},
   "source": [
    "<div class=\"hw\">\n",
    "(b) In the cell below, calculate the associated Bayes Factor."
   ]
  },
  {
   "cell_type": "code",
   "execution_count": null,
   "metadata": {},
   "outputs": [],
   "source": [
    "# hypothesis test here\n",
    "\n",
    "\n",
    "\n"
   ]
  },
  {
   "cell_type": "markdown",
   "metadata": {},
   "source": [
    "<div class=\"hw\">\n",
    "(c) Evaluate the result of your hypothesis test. If it was inconclusive, reflect why. If it was decisive, explain what it says about your data.\n",
    "\n",
    "**Answer:**"
   ]
  }
 ],
 "metadata": {
  "kernelspec": {
   "display_name": "Python 3",
   "language": "python",
   "name": "python3"
  },
  "language_info": {
   "codemirror_mode": {
    "name": "ipython",
    "version": 3
   },
   "file_extension": ".py",
   "mimetype": "text/x-python",
   "name": "python",
   "nbconvert_exporter": "python",
   "pygments_lexer": "ipython3",
   "version": "3.7.3"
  }
 },
 "nbformat": 4,
 "nbformat_minor": 4
}
