{
 "cells": [
  {
   "cell_type": "markdown",
   "metadata": {},
   "source": [
    "### ***Your Name(s) Here***"
   ]
  },
  {
   "cell_type": "code",
   "execution_count": null,
   "metadata": {},
   "outputs": [],
   "source": [
    "import numpy as np\n",
    "import matplotlib.pyplot as plt\n",
    "import scipy.stats as stats\n",
    "import seaborn as sbn\n",
    "%matplotlib inline"
   ]
  },
  {
   "cell_type": "code",
   "execution_count": null,
   "metadata": {},
   "outputs": [],
   "source": [
    "##Hubble's Data!\n",
    "dists = np.array([0.032,0.034,0.214,0.263,0.275,0.275,0.45,0.5,0.5,0.63,0.8,0.9,0.9,\n",
    "         0.9,0.9,1.0,1.1,1.1,1.4,1.7,2.0,2.0,2.0,2.0])#Mpc\n",
    "vels = np.array([170.,290,-130,-70,-185,-220,200,290,270,200,300,-30,650,150,500,920,450,500,500,960,500,850,800,1000]) #km/sec"
   ]
  },
  {
   "cell_type": "markdown",
   "metadata": {},
   "source": [
    "## Monte Carlo Hubble's Law Exercise\n",
    "\n",
    "This exercise uses the Monte Carlo simulation, multipanel plotting, covariance matrix, model fitting, and random sampling ideas from your last several labs and in-class activities to answer the question of how much of the variation in Hubble's original data might have been due to random variation in the relatively small sample size. It will allow you to place some bounds on how well Hubble's original relation was able to constrain the slope of \"Hubble's Law\". \n",
    "\n",
    "This steps that you should follow are:\n",
    "1) Use the numpy.random.multivariate_normal function to create a bivariate normal distribution with the same properties as Hubble's original data. You will have to read the help function to figure out what input to give it, and I highly suggest that you write a few tests and make sure your output makes sense before moving on. *Hint: you will need some summary statistics from the original data, plus a covariance matrix*\n",
    "2) Create a multipanel 2x4 grid of plots (see Prelab 8 for help with setting this up), each of which should be a scatter plot with 24 points (as in Hubble's original data) randomly drawn from the distribution you established in (1). \n",
    "3) Fit a line to the data in each plot and include the slope (also known as the hubble constant, make sure to include units) and correlation coefficient in the legend of each subpanel.  \n",
    "3) Now write a function that will draw an arbitrary number (n) of random 24 point realizations from the distribution and return an array of the best fit slopes and correlation coefficients for each of the n random realizations.  \n",
    "4) Create overlapping histograms or boxplots for several different total numbers of realizations. These are the statistics of a sampling distribution. Note any changes in the distribution with the number of total realizations.  \n",
    "5) Use your answer to design and complete a hypothesis test (there are many possibilities!).   \n",
    "6)At the bottom of your notebook, write a 2-3 paragraph summary describing your method, results, and conclusions, connecting what you're doing explicitly to ideas that we've discussed in class and interspersed with the plots that you have designed. End by describing how you think this kind of exercise might be useful more generally (e.g. what types of questions might you be able to answer with such a technique)?   "
   ]
  }
 ],
 "metadata": {
  "kernelspec": {
   "display_name": "Python 3",
   "language": "python",
   "name": "python3"
  },
  "language_info": {
   "codemirror_mode": {
    "name": "ipython",
    "version": 3
   },
   "file_extension": ".py",
   "mimetype": "text/x-python",
   "name": "python",
   "nbconvert_exporter": "python",
   "pygments_lexer": "ipython3",
   "version": "3.7.3"
  }
 },
 "nbformat": 4,
 "nbformat_minor": 2
}
