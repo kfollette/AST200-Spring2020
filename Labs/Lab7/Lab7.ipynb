{
 "cells": [
  {
   "cell_type": "markdown",
   "metadata": {},
   "source": [
    "### ***Your Name(s) Here***"
   ]
  },
  {
   "cell_type": "code",
   "execution_count": null,
   "metadata": {},
   "outputs": [],
   "source": [
    "import numpy as np\n",
    "import scipy.stats as st\n",
    "import matplotlib.pyplot as plt\n",
    "import pandas as pd\n",
    "%matplotlib inline"
   ]
  },
  {
   "cell_type": "code",
   "execution_count": null,
   "metadata": {},
   "outputs": [],
   "source": [
    "# these set the pandas defaults so that it will print ALL values, even for very long lists and large dataframes\n",
    "#pd.set_option('display.max_columns', None)\n",
    "#pd.set_option('display.max_rows', None)\n",
    "#read in the data, skipping the first rows of ancillary information\n",
    "data=pd.read_csv(\"planets_030220.csv\",skiprows=76)\n",
    "print(data.shape)\n",
    "data.columns"
   ]
  },
  {
   "cell_type": "markdown",
   "metadata": {},
   "source": [
    "# Lab 7\n",
    "\n",
    "You encoountered the idea of correlation and a correlation coefficient in the linear regression chapter of the Diez text, and you may wish to review that chapter before beginning this lab. Searching for meaningful correlations and choosing an appropriate 1metric to measure them is the next tool that we will develop for our data analysis toolkit. Before beginning this lab, you should read about three different types of correlation coefficients.  \n",
    "\n",
    "[This article](https://www.statisticssolutions.com/wp-content/uploads/wp-post-to-pdf-enhanced-cache/1/correlation-pearson-kendall-spearman.pdf) has some good background and considerations for Pearson and Spearman coefficients. It doesn't have much on Kendall's Tau.  \n",
    "\n",
    "[This article](https://towardsdatascience.com/kendall-rank-correlation-explained-dee01d99c535) compares Kendall's Tau to the other coefficients.  "
   ]
  },
  {
   "cell_type": "markdown",
   "metadata": {},
   "source": [
    "<div class=hw>\n",
    "    \n",
    "### Exercise 1\n",
    "-----------------------------\n",
    "\n",
    "Write a summary of the differences between the three types of correlation coefficients. When should you use each one and what should you check/do to justify your choice?"
   ]
  },
  {
   "cell_type": "markdown",
   "metadata": {},
   "source": [
    "Note that computation of pearson's, kendall's tau, and spearman's correlation coefficients are all straightforward in Python. The functions (in the scipy.stats module, which we have imported with st) are called \n",
    "st.pearsonr\n",
    "st.spearmanr\n",
    "st.kendalltau\n",
    "\n",
    "All three will return a correlation coefficients between -1 and 1 and a p value. "
   ]
  },
  {
   "cell_type": "markdown",
   "metadata": {},
   "source": [
    "<div class=hw>\n",
    "    \n",
    "### Exercise 2\n",
    "-----------------------------\n",
    "\n",
    "For the remainder of this lab, you will conduct an investigation of the relationship between mass and radius for exoplanets. I will provide some guidance and constraints here, but the exercise is fairly open ended. Your final product should be a 2-3pg .pdf report describing your results. Please write it in the style that you write project reports - as a well-supported data-driven argument that would be comprehensible by a peer with no computing, statistics, or astronomy experience.  You will also hand in this notebook. It should contain well-commented code and markdown cells or comments that describe briefly what you're doing (e.g. \"computing a covariance matrix for log variables as a comparison\").\n",
    "\n",
    "***The basic constraints for your investigation are:***  \n",
    "1) You should explore the correlation between planet mass and radius   \n",
    "2) You should compare pearson, spearman, and kendall correlation coefficients for that relationship    \n",
    "3) You should make data-driven arguments about the appropriateness of each correlation coefficient by exploring the distribution of the variables graphically using both histograms and scatterplots and should connect these ideas to ideas about when parametric vs. non-parametric statistics are appropriate    \n",
    "4) You should explore linear-linear, log-log, and log-linear correlations and distributions and should make a data-driven decision regarding which to use  \n",
    "5) Where appropriate, you should divide the data into multiple populations. If you're feeling fancy, you might conduct a hypothesis test to justify this choice.  \n",
    "6) At each step, you should compute and compare covariance (np.cov) and correlation (np.corrcoef) matrices and attempt to understand how they relate to one another and to the correlation coefficients  \n",
    "\n",
    "***Your report should answer the following questions in a data-driven (i.e. report statistics, show plots to justify your arguments) way:***  \n",
    "1) How strongly are planet mass and radius related? Is there more than one relationship evident in the data?  \n",
    "2) How did you decide which correlation coefficient was the most appropriate? Was the answer different when considering the relationships between the quantities in linear-linear, log-linear and log-log space?  \n",
    "\n",
    "***Tips:***  \n",
    "1) np.log() takes the **natural logarithm** of a quantity. To take the base 10 log, use np.log10().  \n",
    "2) you will need to begin by removing nans from the dataset. I recommend writing a filter function that uses the np.isnan() function. You may wish to define other filter functions as well during the course of your exploration.    \n",
    "3) if you choose to divide the data into two or more populations, I recommend defining new dataframes to hold each one "
   ]
  },
  {
   "cell_type": "code",
   "execution_count": 1,
   "metadata": {},
   "outputs": [
    {
     "data": {
      "text/html": [
       "<style>\n",
       "div.hw {    \n",
       "    background-color: #fcf2f2;\n",
       "    border-color: #dFb5b4;\n",
       "    border-left: 5px solid #dfb5b4;\n",
       "    padding: 0.5em;\n",
       "    }\n",
       " </style>\n",
       "\n",
       "<style>\n",
       "div.sidebar {    \n",
       "    background-color: #d3d3d3;\n",
       "    border-color: #dFb5b4;\n",
       "    border-left: 5px solid #dfb5b4;\n",
       "    padding: 0.5em;\n",
       "    }\n",
       " </style>"
      ],
      "text/plain": [
       "<IPython.core.display.HTML object>"
      ]
     },
     "execution_count": 1,
     "metadata": {},
     "output_type": "execute_result"
    }
   ],
   "source": [
    "from IPython.core.display import HTML\n",
    "def css_styling():\n",
    "    styles = open(\"../../custom.css\", \"r\").read()\n",
    "    return HTML(styles)\n",
    "css_styling()"
   ]
  }
 ],
 "metadata": {
  "kernelspec": {
   "display_name": "Python 3",
   "language": "python",
   "name": "python3"
  },
  "language_info": {
   "codemirror_mode": {
    "name": "ipython",
    "version": 3
   },
   "file_extension": ".py",
   "mimetype": "text/x-python",
   "name": "python",
   "nbconvert_exporter": "python",
   "pygments_lexer": "ipython3",
   "version": "3.7.3"
  }
 },
 "nbformat": 4,
 "nbformat_minor": 2
}
