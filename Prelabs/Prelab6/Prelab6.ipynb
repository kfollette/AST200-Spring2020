{
 "cells": [
  {
   "cell_type": "markdown",
   "metadata": {},
   "source": [
    "### *** Names: [Insert Your Name Here]***"
   ]
  },
  {
   "cell_type": "markdown",
   "metadata": {},
   "source": [
    "# Prelab 6\n",
    "\n",
    "##  Prelab 6 Contents\n",
    "\n",
    "1. Creating Statistical Graphics from Pandas DataFrames\n",
    "2. Filtering/Selecting a Subset of Data"
   ]
  },
  {
   "cell_type": "code",
   "execution_count": null,
   "metadata": {},
   "outputs": [],
   "source": [
    "#various things that we will need\n",
    "import pandas as pd\n",
    "import numpy as np\n",
    "import matplotlib.pyplot as plt\n",
    "%matplotlib inline\n",
    "import scipy.stats as st\n",
    "import seaborn as sb # a new plotting library"
   ]
  },
  {
   "cell_type": "code",
   "execution_count": null,
   "metadata": {},
   "outputs": [],
   "source": [
    "# these set the pandas defaults so that it will print ALL values, even for very long lists and large dataframes\n",
    "pd.set_option('display.max_columns', None)\n",
    "pd.set_option('display.max_rows', None)"
   ]
  },
  {
   "cell_type": "markdown",
   "metadata": {},
   "source": [
    "Read in the exoplanet database data as a pandas dataframe called \"data\"."
   ]
  },
  {
   "cell_type": "code",
   "execution_count": null,
   "metadata": {},
   "outputs": [],
   "source": [
    "#read in the data, skipping the first 76 rows of ancillary information\n",
    "data=pd.read_csv('planets_030220.csv', skiprows=76)\n",
    "print(data.shape)"
   ]
  },
  {
   "cell_type": "code",
   "execution_count": null,
   "metadata": {},
   "outputs": [],
   "source": [
    "data.columns"
   ]
  },
  {
   "cell_type": "markdown",
   "metadata": {},
   "source": [
    "To make the dataset a bit more manageable for plotting, we'll truncate it to include only planet discovery methods that have found more than 30 planets and also only things that are legitimately classified as planets (masses < 13 Jupiter masses). You don't have to understand everything that's going on in the cell below, however some of the techniques employed may be useful to you later, so I recommend you spend a few minutes trying to undertsand what's going on. "
   ]
  },
  {
   "cell_type": "code",
   "execution_count": null,
   "metadata": {},
   "outputs": [],
   "source": [
    "#this truncates to only planet detection methods with >30 successful detections (skip if you want all of them)\n",
    "methods,methods_inds,methods_counts = np.unique(data['pl_discmethod'],return_index=True,return_counts=True)\n",
    "methods = methods[methods_counts> 30]\n",
    "print(\"I am keeping only the following discovery methods: \", methods)\n",
    "\n",
    "#find the indices of all entries where pl_discmethod is one of these four\n",
    "inds = [j for j in range(len(data)) if data['pl_discmethod'][j] in methods and data['pl_bmassj'][j] < 13.]\n",
    "\n",
    "#write a new dataframe with just these entries\n",
    "data2 = data.loc[inds]\n",
    "\n",
    "#note the table is much smaller than it once was\n",
    "print(\"My shape is now: \", data2.shape)"
   ]
  },
  {
   "cell_type": "markdown",
   "metadata": {},
   "source": [
    "## 1. Creating Statistical Graphics from Pandas DataFrames"
   ]
  },
  {
   "cell_type": "markdown",
   "metadata": {},
   "source": [
    "<div class=hw>\n",
    "    \n",
    "# Exercise 1 - Statistical Plots for Pandas dataframes\n",
    "\n",
    "### 1a - Histogram\n",
    "The built-in syntax for creating a histogram for a pandas dataframe column is: \n",
    "\n",
    "dataframe[\"Column Name\"].hist(bins=nbins)\n",
    "    \n",
    "*HOWEVER*, the matplotlib built-in functionality is far more versatile and so I would like you to use it. To read in a pandas column as an array, follow this convention. \n",
    "\n",
    "myarray = dataframe[\"Column Name\"].values()\n",
    "\n",
    "(i) Play around with inputs (e.g. column name) until you find a case (dataframe column) where you think the histogram tells you something important or interesting (you should play around with the number of bins as well). Display your histogram and then write a 2-3 sentence explanation of what it shows.    \n",
    "    \n",
    "(ii) Play around some more until you find an example where the histogram is not a particularly good qay to represent the data. Explain why in 2-3 sentences.   \n",
    "    \n",
    "(iii) Now think more broadly. When are histograms useful and when aren't they? How many and what types of variables are they good at representing? What do they show that other types of plots don't and what don't they show that other types of plots do? "
   ]
  },
  {
   "cell_type": "code",
   "execution_count": null,
   "metadata": {},
   "outputs": [],
   "source": [
    "#informative histogram here"
   ]
  },
  {
   "cell_type": "markdown",
   "metadata": {},
   "source": [
    "*informative histogram description here*"
   ]
  },
  {
   "cell_type": "code",
   "execution_count": null,
   "metadata": {},
   "outputs": [],
   "source": [
    "#uninformative histogram here"
   ]
  },
  {
   "cell_type": "markdown",
   "metadata": {},
   "source": [
    "*uninformative histogram description here*"
   ]
  },
  {
   "cell_type": "markdown",
   "metadata": {},
   "source": [
    "*Part iii explanation here*"
   ]
  },
  {
   "cell_type": "markdown",
   "metadata": {},
   "source": [
    "<div class=hw>\n",
    "    \n",
    "### 1b - Box plots\n",
    "\n",
    "The syntax for creating a box plot for a pair of pandas dataframe columns is: \n",
    "\n",
    "dataframe.boxplot(column=\"column name 1\", by=\"column name 2\")\n",
    "    \n",
    "Use of this built-in pandas functionality may be nice for quick exploration, ***HOWEVER*** here again there are other libraries with much more versatile boxplot functionalities. I recommend using the plotting library seaborn and what is called a \"notched\" boxplot. Here is a simple schematic describing what it shows. \n",
    "    \n",
    "<img src=\"boxplot.png\" width=\"50%\">\n",
    "    \n",
    "Here is the basic syntax to make a boxplot with seaborn (imported with the shorthand sb in the first cell of this notebook). Note that you will need to turn the pandas dataframe columns that you want into numpy arrays (\"var1\" and \"var2\" below), as you did for exercise 1a. \n",
    "sb.boxplot(x=var1,y=var2,notch=True)\n",
    "\n",
    "(i) Play around with the x and y variables and refer to the docstring as needed until you understand thoroughly what is being shown. Play around with inputs (e.g. column name) until you find a case (dataframe column) where you think the boxlot tells you something important or interesting. Display your boxplot and then write a 2-3 sentence explanation of what it shows.  \n",
    "    \n",
    "(ii) Play around some more until you find an example where the boxplot is not a particularly good way to represent the data. Explain why in 2-3 sentences. \n",
    "    \n",
    "(iii) Now think more broadly. When are boxplots useful and when aren't they? How many and what types of variables are they good at representing? What do they show that other types of plots (e.g. histogram) don't and what don't they show that other types of plots do? "
   ]
  },
  {
   "cell_type": "code",
   "execution_count": null,
   "metadata": {},
   "outputs": [],
   "source": [
    "#informative boxplot code here"
   ]
  },
  {
   "cell_type": "markdown",
   "metadata": {},
   "source": [
    "*Informative boxplot explanation here*"
   ]
  },
  {
   "cell_type": "code",
   "execution_count": null,
   "metadata": {},
   "outputs": [],
   "source": [
    "#uninformative boxplot code here"
   ]
  },
  {
   "cell_type": "markdown",
   "metadata": {},
   "source": [
    "*Uninformative boxplot explanation here*"
   ]
  },
  {
   "cell_type": "markdown",
   "metadata": {},
   "source": [
    "*Part iii explanation here*"
   ]
  },
  {
   "cell_type": "markdown",
   "metadata": {},
   "source": [
    "<div class=hw>\n",
    "    \n",
    "### 1c - Scatter Plots\n",
    "The syntax for creating a scatter plot in pandas is: \n",
    "\n",
    "dataframe.plot.scatter(x='column name',y='column name')\n",
    "\n",
    "But here again, the matplotlib.pyplot version is much more versatile. This time, YOU should figure out how to make a matplotlib scatterplot that is interesting or informative from two pandas dataframe columns. \n",
    "    \n",
    "(i) Play around with scatterplot syntax until you understand thoroughly what the options are. Play around with inputs (e.g. column name) until you find a case (dataframe column) where you think the scatterplot tells you something important or interesting. Display your boxplot and then write a 2-3 sentence explanation of what it shows.  \n",
    "    \n",
    "(ii) Play around some more until you find an example where the scatterplot is not a particularly good way to represent the data. Explain why in 2-3 sentences. \n",
    "    \n",
    "(iii) Now think more broadly. When are scatterplots useful and when aren't they? How many and what types of variables are they good at representing? What do they show that other types of plots (e.g. histogram, boxplot) don't and what don't they show that other types of plots do? "
   ]
  },
  {
   "cell_type": "code",
   "execution_count": null,
   "metadata": {},
   "outputs": [],
   "source": [
    "#informative scatter plot here"
   ]
  },
  {
   "cell_type": "markdown",
   "metadata": {},
   "source": [
    "*Informative scatter plot explanation here*"
   ]
  },
  {
   "cell_type": "code",
   "execution_count": null,
   "metadata": {},
   "outputs": [],
   "source": [
    "#uninformative scatter plot here"
   ]
  },
  {
   "cell_type": "markdown",
   "metadata": {},
   "source": [
    "*Uninformative scatter plot explanation here*"
   ]
  },
  {
   "cell_type": "markdown",
   "metadata": {},
   "source": [
    "*Part iii explanation here*"
   ]
  },
  {
   "cell_type": "markdown",
   "metadata": {},
   "source": [
    "## 2.  Filtering/ Selecting a Subset of Data\n",
    "\n",
    "You will find it quite useful for the rest of this class to be able to select subsets from larger tabular datasets/pandas dataframes. One basic form of filtering employs conditionals inside of square brackets. For example:"
   ]
  },
  {
   "cell_type": "code",
   "execution_count": null,
   "metadata": {},
   "outputs": [],
   "source": [
    "x = np.array(np.arange(10))\n",
    "print(x)\n",
    "y=x[x > 3]\n",
    "print(y)"
   ]
  },
  {
   "cell_type": "markdown",
   "metadata": {},
   "source": [
    "<div class=hw>\n",
    "    \n",
    "### Exercise 2\n",
    "--------------\n",
    "\n",
    "Write a function called \"filter\" that takes a dataframe, column name, and value for that column as input and returns a new dataframe containing only those rows where column name = value. For example filter(data, \"PRE_GENDER\", 1) should return a dataframe about half the size of the original dataframe where all values in the PRE_GENDER column are 1. "
   ]
  },
  {
   "cell_type": "code",
   "execution_count": null,
   "metadata": {},
   "outputs": [],
   "source": [
    "#your function here"
   ]
  },
  {
   "cell_type": "code",
   "execution_count": null,
   "metadata": {},
   "outputs": [],
   "source": [
    "#your tests here"
   ]
  },
  {
   "cell_type": "code",
   "execution_count": 1,
   "metadata": {},
   "outputs": [
    {
     "data": {
      "text/html": [
       "<style>\n",
       "div.hw {    \n",
       "    background-color: #fcf2f2;\n",
       "    border-color: #dFb5b4;\n",
       "    border-left: 5px solid #dfb5b4;\n",
       "    padding: 0.5em;\n",
       "    }\n",
       " </style>\n",
       "\n",
       "<style>\n",
       "div.sidebar {    \n",
       "    background-color: #d3d3d3;\n",
       "    border-color: #dFb5b4;\n",
       "    border-left: 5px solid #dfb5b4;\n",
       "    padding: 0.5em;\n",
       "    }\n",
       " </style>"
      ],
      "text/plain": [
       "<IPython.core.display.HTML object>"
      ]
     },
     "execution_count": 1,
     "metadata": {},
     "output_type": "execute_result"
    }
   ],
   "source": [
    "from IPython.core.display import HTML\n",
    "def css_styling():\n",
    "    styles = open(\"../../custom.css\", \"r\").read()\n",
    "    return HTML(styles)\n",
    "css_styling()"
   ]
  }
 ],
 "metadata": {
  "anaconda-cloud": {},
  "kernelspec": {
   "display_name": "Python 3",
   "language": "python",
   "name": "python3"
  },
  "language_info": {
   "codemirror_mode": {
    "name": "ipython",
    "version": 3
   },
   "file_extension": ".py",
   "mimetype": "text/x-python",
   "name": "python",
   "nbconvert_exporter": "python",
   "pygments_lexer": "ipython3",
   "version": "3.7.3"
  }
 },
 "nbformat": 4,
 "nbformat_minor": 1
}
