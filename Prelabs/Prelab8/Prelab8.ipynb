{
 "cells": [
  {
   "cell_type": "markdown",
   "metadata": {},
   "source": [
    "### *** Name: [Insert Your Name Here]***"
   ]
  },
  {
   "cell_type": "markdown",
   "metadata": {},
   "source": [
    "# Prelab 8 - A Simple, Monte Carlo Universe"
   ]
  },
  {
   "cell_type": "code",
   "execution_count": null,
   "metadata": {},
   "outputs": [],
   "source": [
    "import numpy as np\n",
    "import matplotlib.pyplot as plt\n",
    "%matplotlib inline"
   ]
  },
  {
   "cell_type": "markdown",
   "metadata": {},
   "source": [
    "<div class=hw>\n",
    "    \n",
    "## Exercise 1\n",
    "---------------\n",
    "\n",
    "Below are three functions that utilize random draws from uniform distributions to assign locations (\"galaxies\") in 3D space. The first is the version that most people would write as a first attempt, but it has a significant flaw. The second two are commonly-accepted ways to generate randomly distributed points in a 3d spherical volume. \n",
    "\n",
    "Write a docstring and appropriate comments describing what each line is doing in each of the functions, then describe the differences in how the randomly generated points are distributed in 3D space for each algorithm. Histograms will help to support your argument and should be explicitly referenced or shown in the text."
   ]
  },
  {
   "cell_type": "code",
   "execution_count": null,
   "metadata": {},
   "outputs": [],
   "source": [
    "def random_vol(n):\n",
    "    r = np.random.uniform(-1,1,n) \n",
    "    theta = np.random.uniform(0,np.pi,n)\n",
    "    phi = np.random.uniform(0,2*np.pi,n)\n",
    "    x = r * np.sin( theta ) * np.cos( phi )\n",
    "    y = r * np.sin( theta ) * np.sin( phi )\n",
    "    z = r* np.cos( theta )\n",
    "    return (x,y,z,r,theta,phi)"
   ]
  },
  {
   "cell_type": "code",
   "execution_count": null,
   "metadata": {},
   "outputs": [],
   "source": [
    "def random_vol2(n):\n",
    "    phi = np.random.uniform(0,2*np.pi,n)\n",
    "    u = np.random.uniform(0,1,n)\n",
    "    theta = np.arccos(2*np.random.uniform(0,1,n)-1)\n",
    "    r = (u)**(1/3)\n",
    "    x = r * np.sin(theta) * np.cos(phi)\n",
    "    y = r * np.sin(theta) * np.sin(phi)\n",
    "    z = r * np.cos(theta)\n",
    "    return(x,y,z,r,theta,phi)"
   ]
  },
  {
   "cell_type": "code",
   "execution_count": null,
   "metadata": {},
   "outputs": [],
   "source": [
    "def random_vol3(n):\n",
    "    xs=[]\n",
    "    ys=[]\n",
    "    zs=[]\n",
    "    counter=0\n",
    "    while counter < n:\n",
    "        x = np.random.uniform(-1,1)\n",
    "        y = np.random.uniform(-1,1)\n",
    "        z = np.random.uniform(-1,1)\n",
    "        if x**2+y**2+z**2 < 1:\n",
    "            xs.append(x)\n",
    "            ys.append(y)\n",
    "            zs.append(z)\n",
    "            counter+=1\n",
    "    xs=np.array(xs)\n",
    "    ys=np.array(ys)\n",
    "    zs=np.array(zs)\n",
    "    r=np.sqrt(xs**2+ys**2+zs**2)\n",
    "    theta=np.arctan(ys/xs)\n",
    "    phi=np.arctan(np.sqrt(xs**2+ys**2)/zs)\n",
    "    return(xs,ys,zs,r,theta,phi)"
   ]
  },
  {
   "cell_type": "markdown",
   "metadata": {},
   "source": [
    "<div class=hw>\n",
    "    \n",
    "## Exercise 2\n",
    "---------------\n",
    "\n",
    "The example below shows you one (ugly) way to plot in 3D in matplotlib. Your assignment here is twofold:  \n",
    "1) Beautify and label the plot to more closely align with Tufte's principles (docstrings and online help pages, as well as manipulations of figure size, will be good resources) or find another, better 3D visualization package and implement it.   \n",
    "2) Generate 3D maps of universes simulated with each of the three random_vol functions. Save these plots, and use them to check your responses Exercise 1 of how random volume sampling works.  "
   ]
  },
  {
   "cell_type": "code",
   "execution_count": null,
   "metadata": {},
   "outputs": [],
   "source": [
    "from mpl_toolkits.mplot3d import Axes3D\n",
    "fig = plt.figure()\n",
    "ax = fig.add_subplot(111,projection='3d')\n",
    "x,y,z,r,theta,phi = random_vol3(500)\n",
    "ax.scatter(x,y,z)"
   ]
  },
  {
   "cell_type": "code",
   "execution_count": null,
   "metadata": {},
   "outputs": [],
   "source": [
    "#random_vol plot"
   ]
  },
  {
   "cell_type": "code",
   "execution_count": null,
   "metadata": {},
   "outputs": [],
   "source": [
    "#random_vol2 plot"
   ]
  },
  {
   "cell_type": "code",
   "execution_count": null,
   "metadata": {},
   "outputs": [],
   "source": [
    "#random_vol3 plot"
   ]
  },
  {
   "cell_type": "markdown",
   "metadata": {},
   "source": [
    "<div class=hw>\n",
    "    \n",
    "## Exercise 3\n",
    "---------------\n",
    "\n",
    "Collapse both of your 3D visualizations (e.g. x,y,z or r, phi,theta) into 2D visualizations (e.g. x,y or r,theta) so that they represent the 2D image that you would see if you were to look up at this group of galaxies in the sky. We will capture the third dimension of the plot by changing the size of the plotting symbols to indicate the apparent brightness of each object, which is a function of distance. Open circles are advisable to facilitate overlap. Note that brightness follows the so-called \"inverse square law\" and drops off as $\\frac{1}{d^2}. Assume that all galaxies in the simulation start with the same brightness. \n",
    "\n",
    "Assume that you are an observer who lives in a galaxy at the location (0,0,0) in the simulated volume. Write a function that will create a 2D sky map according to the specifications above for an arbitrary viewing direction (you can use sperical or cartesian coordinates). \n",
    "\n",
    "If you'd like a challenge, try modifying your function for an observer at any location in the simulated volume (not just 0,0,0)."
   ]
  },
  {
   "cell_type": "code",
   "execution_count": null,
   "metadata": {},
   "outputs": [],
   "source": [
    "#your function here"
   ]
  },
  {
   "cell_type": "code",
   "execution_count": null,
   "metadata": {},
   "outputs": [],
   "source": [
    "#your test statements here"
   ]
  },
  {
   "cell_type": "markdown",
   "metadata": {},
   "source": [
    "<div class=hw>\n",
    "    \n",
    "## Exercise 4\n",
    "---------------\n",
    "Based on your work with a final project database last week and any exploratory work that you've done in the interim, propose at least two interesting patterns or relationships that you've noted within the dataset that you've chosen. You are shooting for something that you think might yield an interesting investigation and yield some meaningful insight into the nature of the universe. Describe how you arrived at these questions (plots welcome!) and any questions that you have about how to plan your investigation or hone your question. "
   ]
  },
  {
   "cell_type": "markdown",
   "metadata": {},
   "source": [
    "*** Your Answer Here ***"
   ]
  },
  {
   "cell_type": "code",
   "execution_count": 1,
   "metadata": {},
   "outputs": [
    {
     "data": {
      "text/html": [
       "<style>\n",
       "div.hw {    \n",
       "    background-color: #fcf2f2;\n",
       "    border-color: #dFb5b4;\n",
       "    border-left: 5px solid #dfb5b4;\n",
       "    padding: 0.5em;\n",
       "    }\n",
       " </style>\n",
       "\n",
       "<style>\n",
       "div.sidebar {    \n",
       "    background-color: #d3d3d3;\n",
       "    border-color: #dFb5b4;\n",
       "    border-left: 5px solid #dfb5b4;\n",
       "    padding: 0.5em;\n",
       "    }\n",
       " </style>"
      ],
      "text/plain": [
       "<IPython.core.display.HTML object>"
      ]
     },
     "execution_count": 1,
     "metadata": {},
     "output_type": "execute_result"
    }
   ],
   "source": [
    "from IPython.core.display import HTML\n",
    "def css_styling():\n",
    "    styles = open(\"../../custom.css\", \"r\").read()\n",
    "    return HTML(styles)\n",
    "css_styling()"
   ]
  }
 ],
 "metadata": {
  "anaconda-cloud": {},
  "kernelspec": {
   "display_name": "Python 3",
   "language": "python",
   "name": "python3"
  },
  "language_info": {
   "codemirror_mode": {
    "name": "ipython",
    "version": 3
   },
   "file_extension": ".py",
   "mimetype": "text/x-python",
   "name": "python",
   "nbconvert_exporter": "python",
   "pygments_lexer": "ipython3",
   "version": "3.7.3"
  }
 },
 "nbformat": 4,
 "nbformat_minor": 1
}
