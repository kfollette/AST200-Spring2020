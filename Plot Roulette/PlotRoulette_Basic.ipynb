{
 "cells": [
  {
   "cell_type": "markdown",
   "metadata": {},
   "source": [
    "*Improvements to be made:  \n",
    "Add functioning inline timer  \n",
    "Add scoring*"
   ]
  },
  {
   "cell_type": "code",
   "execution_count": null,
   "metadata": {},
   "outputs": [],
   "source": [
    "import numpy as np\n",
    "import matplotlib.pyplot as plt\n",
    "import matplotlib.image as mpimg"
   ]
  },
  {
   "cell_type": "markdown",
   "metadata": {},
   "source": [
    "# Plot Roulette - Basic Version\n",
    "\n",
    "You will be randomly assigned to a team of two and paired with another team who you will be pitted against. You decide which of the teams will be ***Team 1*** and which will be ***Team 2***. In each round, one team will be the ***presenting*** team, and the other will be the ***assessing*** team, and these will switch each round.\n",
    "\n",
    "At the start of each round, the presenting team should execute the cell below that displays a plot for them. Once the plot is on the screen, start a 2min timer:  \n",
    "1) The ***assessing team*** should pick up the card number indicated and take 2min to review the card and plot.   \n",
    "2) The ***presenting team*** should quietly discuss the major features of the graphic and should choose one team member to present it to the assessing team.   \n",
    "3) When time is up, the presenting team has 2 minutes to present their graphic (start a timer again). The assessing team should check off the points that they cover as they go.  "
   ]
  },
  {
   "cell_type": "code",
   "execution_count": null,
   "metadata": {},
   "outputs": [],
   "source": [
    "#divide plots 1-12 between the two teams and randomize the order\n",
    "turns = np.arange(1,13)\n",
    "np.random.shuffle(turns)\n",
    "team1 = turns[::2]\n",
    "team2 = turns[1::2]"
   ]
  },
  {
   "cell_type": "code",
   "execution_count": null,
   "metadata": {},
   "outputs": [],
   "source": [
    "def game_turn(team):\n",
    "    \"\"\"\n",
    "    Purpose: A function that displays the plot corresponding to the next number in the list for a given team\n",
    "    \"\"\"\n",
    "    #extract plot number from list\n",
    "    slide = team[0]\n",
    "    #tell the assessing team what number it is\n",
    "    print(\"ASESSING TEAM SHOULD PICK UP CARD #\", slide)\n",
    "    #pull the .png corresponding to that number\n",
    "    img=mpimg.imread('images/'+str(slide)+'.png')\n",
    "    #display the plot\n",
    "    plt.figure(figsize=(15,15), dpi=500)\n",
    "    imgplot = plt.imshow(img)\n",
    "    plt.show()\n",
    "    #remove the presented plot from the list\n",
    "    team = team[1:]\n",
    "    return(team)"
   ]
  },
  {
   "cell_type": "markdown",
   "metadata": {},
   "source": [
    "## Team 1 - Execute this cell on your turn"
   ]
  },
  {
   "cell_type": "code",
   "execution_count": null,
   "metadata": {},
   "outputs": [],
   "source": [
    "team1 = game_turn(team1)"
   ]
  },
  {
   "cell_type": "markdown",
   "metadata": {},
   "source": [
    "## Team 2 - Execute this cell on your turn"
   ]
  },
  {
   "cell_type": "code",
   "execution_count": null,
   "metadata": {},
   "outputs": [],
   "source": [
    "team2 = game_turn(team2)"
   ]
  },
  {
   "cell_type": "code",
   "execution_count": null,
   "metadata": {},
   "outputs": [],
   "source": []
  }
 ],
 "metadata": {
  "kernelspec": {
   "display_name": "Python 3",
   "language": "python",
   "name": "python3"
  },
  "language_info": {
   "codemirror_mode": {
    "name": "ipython",
    "version": 3
   },
   "file_extension": ".py",
   "mimetype": "text/x-python",
   "name": "python",
   "nbconvert_exporter": "python",
   "pygments_lexer": "ipython3",
   "version": "3.7.3"
  }
 },
 "nbformat": 4,
 "nbformat_minor": 2
}
