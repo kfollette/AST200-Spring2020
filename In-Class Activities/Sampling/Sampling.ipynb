{
 "cells": [
  {
   "cell_type": "code",
   "execution_count": null,
   "metadata": {},
   "outputs": [],
   "source": [
    "import numpy as np\n",
    "import matplotlib.pyplot as plt\n",
    "%matplotlib inline\n",
    "import pandas as pd\n",
    "from scipy.stats import norm"
   ]
  },
  {
   "cell_type": "markdown",
   "metadata": {},
   "source": [
    "# Office Hour Exercise for March 25-26 - The Brightest Stars\n",
    "\n",
    "The dataset we'll be dealing with here is a list of properties for the 50 brightest stars in the sky. You will mostly be running code that has already been written, but take the time to discuss with your partner what the code is \"doing\" at each step. Experiment with changing values to make sure you understand what is going on. You will submit your notebook for participation credit. \n",
    "\n",
    "### ***Add at least one comment to each code cell describing what it's doing.*** \n",
    "\n",
    "### ***Enter all qualitative (non-code) answers below the questions themselves in the same markdown cell***"
   ]
  },
  {
   "cell_type": "code",
   "execution_count": null,
   "metadata": {},
   "outputs": [],
   "source": [
    "data = pd.read_csv('stars.csv')\n",
    "data = data.replace(\"?\",np.nan)\n",
    "data = data.replace(\"binary\",np.nan)\n",
    "data"
   ]
  },
  {
   "cell_type": "markdown",
   "metadata": {},
   "source": [
    "## Exercise 1\n",
    "Using the two cells below as models, make histograms for the quantities distance and Luminosity. Write 1 paragraph describing what these and the second plot below tell you about the distance, luminosity, and mass of the brightest stars in the sky. "
   ]
  },
  {
   "cell_type": "code",
   "execution_count": null,
   "metadata": {},
   "outputs": [],
   "source": [
    "f = plt.hist(data['Visual Mag.'])\n",
    "plt.xlabel(\"Visual Magnitude\")\n",
    "plt.ylabel(\"Number\")"
   ]
  },
  {
   "cell_type": "code",
   "execution_count": null,
   "metadata": {},
   "outputs": [],
   "source": [
    "data[\"Mass (Sol)\"]=data[\"Mass (Sol)\"].astype('float')\n",
    "f = plt.hist(data['Mass (Sol)'])\n",
    "plt.xlabel(\"Visual Mass\")\n",
    "plt.ylabel(\"Number\")"
   ]
  },
  {
   "cell_type": "code",
   "execution_count": null,
   "metadata": {},
   "outputs": [],
   "source": [
    "#distance histogram"
   ]
  },
  {
   "cell_type": "code",
   "execution_count": null,
   "metadata": {},
   "outputs": [],
   "source": [
    "#luminosity histogram"
   ]
  },
  {
   "cell_type": "markdown",
   "metadata": {},
   "source": [
    "***Explanation***"
   ]
  },
  {
   "cell_type": "markdown",
   "metadata": {},
   "source": [
    "## Exercise 2\n",
    "Study the function and the output of the test statements below, then complete the following:\n",
    "\n",
    "1) Add comments to the key lines in the function (read docstrings for unknown functions to find out what they're doing)     \n",
    "2) Describe what each plot created by the test statements I've provided is showing. Add axis labels to both plots.  \n",
    "2) Add at least 5 additional test statements with different values for the input parameters (nstars, nsamples, colname). Then, describe in words the effect of changing each one. Pay particular attention to the differences between (a) the \"true mean\" and the \"mean of the sampling distribution\" and (b) the normal curve and the histogram   \n",
    "3) What statistical principle(s) is at play here?   "
   ]
  },
  {
   "cell_type": "code",
   "execution_count": null,
   "metadata": {},
   "outputs": [],
   "source": [
    "def sample_stars(colname, nsamples=10, nstars=10, showall=False):\n",
    "    \"\"\"\n",
    "    A function that assembles mean values for nsamples randomly drawn samples of size nstars from the dataframe data. \n",
    "    \"\"\"\n",
    "    avg_prop = []\n",
    "    confints = []\n",
    "    dummyy=0\n",
    "    for i in np.arange(nsamples):\n",
    "        sample = np.random.choice(data[colname], nstars)\n",
    "        avg_prop.append(np.nanmean(sample))\n",
    "        stderr = np.nanstd(sample)/np.sqrt(nstars)\n",
    "        conf95 = 1.96*stderr\n",
    "        confints.append(conf95)\n",
    "        dummyy +=1\n",
    "        if showall==True:\n",
    "            plt.errorbar(np.nanmean(sample),dummyy, xerr=conf95,fmt='ko',ecolor='gray')\n",
    "    if showall==True:\n",
    "        plt.plot([np.nanmean(data[colname]),np.nanmean(data[colname])],[0,nsamples+1],'r--', label = \"True Mean\")\n",
    "        plt.plot([np.mean(avg_prop),np.mean(avg_prop)],[0,nsamples+1],'g--', label = \"Mean of Sampling Dist.\")\n",
    "        plt.legend()\n",
    "    return(avg_prop, confints)"
   ]
  },
  {
   "cell_type": "code",
   "execution_count": null,
   "metadata": {},
   "outputs": [],
   "source": [
    "avg_masses, confints = sample_stars(\"Mass (Sol)\", nsamples=50, nstars=10, showall=True)\n",
    "plt.xlabel(\"mass (in M$_{\\odot}$)\")\n",
    "f = plt.ylabel('number of random sample')"
   ]
  },
  {
   "cell_type": "code",
   "execution_count": null,
   "metadata": {},
   "outputs": [],
   "source": [
    "plt.hist(avg_masses, normed=True)\n",
    "print(\"mean is \", np.mean(avg_masses))\n",
    "print(\"standard deviation is\", np.std(avg_masses))\n",
    "f = plt.plot(np.arange(0,15,0.1),norm.pdf(np.arange(0,15,0.1),np.mean(avg_masses),np.std(avg_masses)))"
   ]
  },
  {
   "cell_type": "markdown",
   "metadata": {},
   "source": [
    "## Exercise 3\n",
    "A list of the absolute magnitudes (a measure of intrinsic brightness) of the ten nearest stars to the earth is given below.   \n",
    "1) Compute the average and the standard deviation   \n",
    "2) Quantitatively evaluate the following hypothesis and describe your reasoning at each step: \"the mean absolute magnitude of the nearest stars is the same as that of the brightest stars\"  "
   ]
  },
  {
   "cell_type": "code",
   "execution_count": null,
   "metadata": {},
   "outputs": [],
   "source": [
    "nearest_mags=[15.53,4.38,5.71,13.22,14.2,16.55,10.44,1.42,11.34,15.4]"
   ]
  }
 ],
 "metadata": {
  "anaconda-cloud": {},
  "kernelspec": {
   "display_name": "Python 3",
   "language": "python",
   "name": "python3"
  },
  "language_info": {
   "codemirror_mode": {
    "name": "ipython",
    "version": 3
   },
   "file_extension": ".py",
   "mimetype": "text/x-python",
   "name": "python",
   "nbconvert_exporter": "python",
   "pygments_lexer": "ipython3",
   "version": "3.7.3"
  }
 },
 "nbformat": 4,
 "nbformat_minor": 1
}
